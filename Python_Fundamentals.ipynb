{
  "nbformat": 4,
  "nbformat_minor": 0,
  "metadata": {
    "colab": {
      "name": "Python_Fundamentals.ipynb",
      "version": "0.3.2",
      "provenance": [],
      "collapsed_sections": [
        "54SmlwSTL8OJ",
        "JQ4Yuh3L3sXj"
      ],
      "include_colab_link": true
    },
    "kernelspec": {
      "name": "python3",
      "display_name": "Python 3"
    }
  },
  "cells": [
    {
      "cell_type": "markdown",
      "metadata": {
        "id": "view-in-github",
        "colab_type": "text"
      },
      "source": [
        "<a href=\"https://colab.research.google.com/github/dmvdatascience/Python-Foundations-Cohort-1/blob/master/Python_Fundamentals.ipynb\" target=\"_parent\"><img src=\"https://colab.research.google.com/assets/colab-badge.svg\" alt=\"Open In Colab\"/></a>"
      ]
    },
    {
      "cell_type": "markdown",
      "metadata": {
        "id": "54SmlwSTL8OJ",
        "colab_type": "text"
      },
      "source": [
        "# **Python Fundamentals**"
      ]
    },
    {
      "cell_type": "markdown",
      "metadata": {
        "id": "rwir89TOXsR5",
        "colab_type": "text"
      },
      "source": [
        "Let's review some Python fundementals before we start the Analytic Workflow"
      ]
    },
    {
      "cell_type": "markdown",
      "metadata": {
        "id": "f5eKb4NqdsGO",
        "colab_type": "text"
      },
      "source": [
        "Variables and Data Types"
      ]
    },
    {
      "cell_type": "code",
      "metadata": {
        "id": "xkYzt-EUX1gy",
        "colab_type": "code",
        "colab": {}
      },
      "source": [
        "number = 5\n",
        "\n",
        "float_number = 7.321\n",
        "\n",
        "character = 'c'\n",
        "\n",
        "word = 'Hello World'\n",
        "\n",
        "print('Basic Datatypes')\n",
        "print(f'Number: {number}\\nFloat: {float_number}\\nChar: {character}\\nString: {word}')"
      ],
      "execution_count": 0,
      "outputs": []
    },
    {
      "cell_type": "markdown",
      "metadata": {
        "id": "GqCITSqFdumY",
        "colab_type": "text"
      },
      "source": [
        "Lists, Sets, and For loops"
      ]
    },
    {
      "cell_type": "code",
      "metadata": {
        "id": "uc6bt2gfb-Ti",
        "colab_type": "code",
        "colab": {}
      },
      "source": [
        "names = ['Harry', 'Larry', 'Larry', 'Barry']\n",
        "\n",
        "names.append('Garry')\n",
        "\n",
        "for name in names:\n",
        "  print(name)\n",
        "  \n",
        "  \n",
        "name_set = set(names)\n",
        "\n",
        "print(name_set)\n",
        "\n",
        "name_set.add('Sherry')\n",
        "name_set.remove('Barry')\n",
        "\n",
        "print(name_set)"
      ],
      "execution_count": 0,
      "outputs": []
    },
    {
      "cell_type": "markdown",
      "metadata": {
        "id": "5EQwL-bYe6ht",
        "colab_type": "text"
      },
      "source": [
        "Dictionary"
      ]
    },
    {
      "cell_type": "code",
      "metadata": {
        "id": "BCX6v_sxe866",
        "colab_type": "code",
        "colab": {}
      },
      "source": [
        "\n",
        "# Initialize a dict\n",
        "\n",
        "mapping = {\n",
        "    'Jan': 'January',\n",
        "    'Feb': 'February',\n",
        "    'Mar': 'March',\n",
        "    'Apr': 'April'\n",
        "}\n",
        "\n",
        "# Update the mapping dictionary one key at a time\n",
        "\n",
        "mapping['May'] = 'May'\n",
        "mapping['Jun'] = 'June'\n",
        "mapping['Jul'] = 'July'\n",
        "mapping['Aug'] = 'August'\n",
        "\n",
        "\n",
        "# Merge a dictionary into the mapping dictionary\n",
        "mapping.update({\n",
        "    'Sep': 'September',\n",
        "    'Oct': 'October',\n",
        "    'Nov': 'November',\n",
        "    'Dec': 'December'\n",
        "})\n",
        "\n",
        "day = 1\n",
        "month = 'Nov'\n",
        "year = 2019\n",
        "\n",
        "print('Use a dictionary! {} {}, {}'.format(day, mapping[month], year))"
      ],
      "execution_count": 0,
      "outputs": []
    },
    {
      "cell_type": "markdown",
      "metadata": {
        "id": "AcLtT3akXn8D",
        "colab_type": "text"
      },
      "source": [
        "# **Analytic Workflow**"
      ]
    },
    {
      "cell_type": "markdown",
      "metadata": {
        "id": "MEgiYZxU8C_N",
        "colab_type": "text"
      },
      "source": [
        "**Execise 1**"
      ]
    },
    {
      "cell_type": "markdown",
      "metadata": {
        "id": "m-6MsRagNAJx",
        "colab_type": "text"
      },
      "source": [
        "When we start our workflow we need to prepare the workspace by importing required packages. Here we need to import the pandas package \n",
        "\n",
        "\n",
        "To import a package in Python specify the package name, and optionally you\n",
        "can give it an alias"
      ]
    },
    {
      "cell_type": "code",
      "metadata": {
        "id": "dHl4PT9j5ezX",
        "colab_type": "code",
        "colab": {}
      },
      "source": [
        "\n",
        "# On the line below import the pandas package as pd\n",
        "\n",
        "import <package> as <alias>\n",
        "\n",
        "\n",
        "\n",
        "GITHUB_REPO = 'https://raw.githubusercontent.com/dmvdatascience/Python-Foundations-Cohort-1/master/raw_data'\n",
        "\n",
        "TITANIC_CSV = f'{GITHUB_REPO}/titanic.csv'\n"
      ],
      "execution_count": 0,
      "outputs": []
    },
    {
      "cell_type": "markdown",
      "metadata": {
        "id": "oAeXhHkFXbMs",
        "colab_type": "text"
      },
      "source": [
        "Next, let's read in the data. To do so, use the **read_csv** method from pandas, and provide a string of the file name we would like to read data from"
      ]
    },
    {
      "cell_type": "code",
      "metadata": {
        "id": "ubQ1heiMXYSe",
        "colab_type": "code",
        "colab": {}
      },
      "source": [
        "\n",
        "#  On the line below specify the filename as TITANIC_CSV\n",
        "\n",
        "titanic_df = pd.read_csv(<filename>)\n",
        "\n",
        "print(titanic_df.info())\n",
        "  \n"
      ],
      "execution_count": 0,
      "outputs": []
    },
    {
      "cell_type": "markdown",
      "metadata": {
        "id": "_LNUmz1gYy_G",
        "colab_type": "text"
      },
      "source": [
        "Take a look at what happend when we ran the **info()** method on a dataframe. It showed us the name and data type of each of the columns, and how many entries are in each of the columns.\n",
        "\n",
        "In the cell below pick values from above, and try out several values for the column variable\n",
        "\n",
        "\n",
        "1.   What information does this method give you?\n",
        "2.   Do different columns provide different information? Why?\n",
        "\n"
      ]
    },
    {
      "cell_type": "code",
      "metadata": {
        "id": "szop0OUiL1Cu",
        "colab_type": "code",
        "colab": {}
      },
      "source": [
        "\n",
        "column = 'Ticket'\n",
        "\n",
        "print(titanic_df[column].describe())\n"
      ],
      "execution_count": 0,
      "outputs": []
    },
    {
      "cell_type": "markdown",
      "metadata": {
        "id": "lfzhe3-h8NGD",
        "colab_type": "text"
      },
      "source": [
        "Next, when working with datasets we may have column names that don't work for us. Maybe they name doesn't convey the column's meaning well, maybe there's spaces instead of underscores, etc.\n",
        "\n",
        "In the cell below, rename the 'Pclass' column to 'PassengerClass'"
      ]
    },
    {
      "cell_type": "code",
      "metadata": {
        "id": "4tmdJ9cj8aB6",
        "colab_type": "code",
        "colab": {}
      },
      "source": [
        "\n",
        "column_mapping = {\n",
        "    'Pclass': 'PassengerClass'\n",
        "}\n",
        "\n",
        "titanic_df.rename(columns=column_mapping, inplace=True)\n"
      ],
      "execution_count": 0,
      "outputs": []
    },
    {
      "cell_type": "markdown",
      "metadata": {
        "id": "solaDHFY7-Tu",
        "colab_type": "text"
      },
      "source": [
        "**Exercise 2**"
      ]
    },
    {
      "cell_type": "markdown",
      "metadata": {
        "id": "JzPsXCcl_Pgo",
        "colab_type": "text"
      },
      "source": [
        "In this exercise we will be covering taking slices of a dataframe and changing the datatype of a column. Some operations require specific datatypes to complete, and to ensure we have the correct data type we need to enforce it."
      ]
    },
    {
      "cell_type": "markdown",
      "metadata": {
        "id": "O31jnWsmAROO",
        "colab_type": "text"
      },
      "source": [
        "First let's take slices of a dataframe. To return the values for a specific column, we use sqaure brackets and specify the string name for the column"
      ]
    },
    {
      "cell_type": "code",
      "metadata": {
        "id": "8HGQs2dqAJYG",
        "colab_type": "code",
        "colab": {}
      },
      "source": [
        "df = pd.DataFrame({\n",
        "    'A': [1, 2, 3, 4, 5, 6, 7 , 8, 9, 10],\n",
        "    'B': [10, 9, 8, 7, 6, 5, 4, 3, 2, 1],\n",
        "    'C': [1, 1, 1, 1, 1, 1, 1, 1, 1, 1]\n",
        "})\n",
        "\n",
        "print('Column A:')\n",
        "print(df['A'])\n",
        "\n",
        "print(\"Column B: \")\n",
        "print(df['B'])\n",
        "\n",
        "print('Column A and B: ')\n",
        "print(df[['A', 'B']])\n"
      ],
      "execution_count": 0,
      "outputs": []
    },
    {
      "cell_type": "markdown",
      "metadata": {
        "id": "zaLQ37pfBCiR",
        "colab_type": "text"
      },
      "source": [
        "Let's change the datatype for the 'PassengerClass' column. It was originally read in as a number, but it is really a categorical variable and should be a string"
      ]
    },
    {
      "cell_type": "code",
      "metadata": {
        "id": "QnpuKlEBCS4y",
        "colab_type": "code",
        "colab": {}
      },
      "source": [
        "# In the line below, replace <column_name> with PassengerClass\n",
        "\n",
        "titanic_df[<column_name>] = titanic_df[<column_name>].map(str)\n",
        "\n",
        "print(titanic_df.info())\n"
      ],
      "execution_count": 0,
      "outputs": []
    },
    {
      "cell_type": "markdown",
      "metadata": {
        "id": "nhmniL1ICwVr",
        "colab_type": "text"
      },
      "source": [
        "Notice the datatype for the PassengerClass column went from int64 to object"
      ]
    },
    {
      "cell_type": "markdown",
      "metadata": {
        "id": "jn3N6WFWEkwI",
        "colab_type": "text"
      },
      "source": [
        "**Exercise 3**"
      ]
    },
    {
      "cell_type": "markdown",
      "metadata": {
        "id": "cuUeIQ-dEqvS",
        "colab_type": "text"
      },
      "source": [
        "Next we're going to create a calculated column. In Python you can perform operations on whole columns!\n",
        "\n",
        "It's easier to perform analytics on numeric columns, so let's use the 'Sex' column to create a new column called 'Female'. \n",
        "\n",
        "If the value of the 'Sex' column is male set the value to 0 otherwise 1"
      ]
    },
    {
      "cell_type": "code",
      "metadata": {
        "id": "RyLyEYJKF8kL",
        "colab_type": "code",
        "colab": {}
      },
      "source": [
        "# Iterate through each of the values in the 'Sex' column  of the titanic_df\n",
        "# If the value is 'male' append 0 to female column, else append 1 \n",
        "\n",
        "female_column = []\n",
        "\n",
        "for value in titanic_df['Sex']:\n",
        "  \n",
        "  if value == 'male':\n",
        "    female_column.append(0)\n",
        "    \n",
        "  else:\n",
        "    female_column.append(1)\n",
        "\n",
        "titanic_df['PassengerFemale'] = female_column\n"
      ],
      "execution_count": 0,
      "outputs": []
    },
    {
      "cell_type": "markdown",
      "metadata": {
        "id": "iyhh2rIMHtn0",
        "colab_type": "text"
      },
      "source": [
        "Next, let's take a look at the groupby operation. With the groupby operation, we can do things like group the data by a category and retrieve a mean value.\n",
        "\n",
        "Let's do that with the PassengerClass column, and retrieve the mean Fare values."
      ]
    },
    {
      "cell_type": "code",
      "metadata": {
        "id": "BIb9eCCSITFP",
        "colab_type": "code",
        "colab": {}
      },
      "source": [
        "# First, take a slice of the data to retrive only the 'PassengerClass' column and the 'Fare' column\n",
        "sliced_df = <slice of titanic_df>\n",
        "\n",
        "# Next, select the column to group the data by, the input should be a string\n",
        "grouped_df = sliced_df.groupby(<column_name>)\n",
        "\n",
        "# Last, you can perform the operation on the sliced data\n",
        "print(grouped_df.mean())\n"
      ],
      "execution_count": 0,
      "outputs": []
    },
    {
      "cell_type": "markdown",
      "metadata": {
        "id": "36snDNV7KDK4",
        "colab_type": "text"
      },
      "source": [
        "**Exercise 4**"
      ]
    },
    {
      "cell_type": "markdown",
      "metadata": {
        "id": "wEyQeW7EKGg0",
        "colab_type": "text"
      },
      "source": [
        "For the last exercise, let's produce some visualiations for the data. Pandas has some nice built in functionality to help us out with this!\n",
        "\n"
      ]
    },
    {
      "cell_type": "markdown",
      "metadata": {
        "id": "Q5NkCFauL0He",
        "colab_type": "text"
      },
      "source": [
        "Play around with different columns and combinations of columns"
      ]
    },
    {
      "cell_type": "code",
      "metadata": {
        "id": "ykFakurBKb2a",
        "colab_type": "code",
        "colab": {}
      },
      "source": [
        "titanic_df['Age'].hist()"
      ],
      "execution_count": 0,
      "outputs": []
    },
    {
      "cell_type": "code",
      "metadata": {
        "id": "TbHIjLHLKjMf",
        "colab_type": "code",
        "colab": {}
      },
      "source": [
        "titanic_df[['Age', 'Survived']].boxplot(by='Survived')"
      ],
      "execution_count": 0,
      "outputs": []
    },
    {
      "cell_type": "markdown",
      "metadata": {
        "id": "JQ4Yuh3L3sXj",
        "colab_type": "text"
      },
      "source": [
        "# **Object Oriented Programming**"
      ]
    },
    {
      "cell_type": "markdown",
      "metadata": {
        "id": "gZh27edY3yFa",
        "colab_type": "text"
      },
      "source": [
        "Here's an example of object oriented programming and use"
      ]
    },
    {
      "cell_type": "markdown",
      "metadata": {
        "id": "kWLlOXb17NWV",
        "colab_type": "text"
      },
      "source": [
        "The most popular Python packages are wirtten in the object oriented style. If you would like to dive further into Python and take your programming ability to the next level, it is important to become familiar with object oriented programming and design"
      ]
    },
    {
      "cell_type": "code",
      "metadata": {
        "id": "-2xCk_mV3w72",
        "colab_type": "code",
        "colab": {}
      },
      "source": [
        "class Student:\n",
        "    def __init__(self, name, degree, energy=10, hunger=0):\n",
        "        self.name = name\n",
        "        self.degree = degree\n",
        "        self.energy = energy\n",
        "        self.hunger = hunger\n",
        "\n",
        "    def do_homework(self, course):\n",
        "        if self.energy >= 5:\n",
        "            self.energy -= 5\n",
        "            print(f\"I did my {course} homework!\")\n",
        "        else:\n",
        "            print(\"I can't do more homework!\")\n",
        "            \n",
        "    def eat(self, food='healthy'):\n",
        "        if food == 'healthy':\n",
        "            self.hunger = 0\n",
        "\n",
        "            if self.energy <= 8:\n",
        "                self.energy += 2\n",
        "\n",
        "        elif food == 'unhealth':\n",
        "            self.hunger = 0\n",
        "            self.energy -= 2\n",
        "\n",
        "    def sleep(self, hours=8):\n",
        "        if hours < 8:\n",
        "            self.energy -= 1\n",
        "            print('I didn\\'t sleep so well...')\n",
        "        else:\n",
        "            self.energy = 10\n",
        "            print('I\\'m fully recovered!')\n"
      ],
      "execution_count": 0,
      "outputs": []
    },
    {
      "cell_type": "code",
      "metadata": {
        "id": "hW3dYboR4bbg",
        "colab_type": "code",
        "colab": {}
      },
      "source": [
        "larry = Student(name='Larry', degree='Math')\n",
        "\n",
        "larry.do_homework('Math')\n",
        "larry.do_homework('Computer Science')\n",
        "\n",
        "print('{} has {} energy left'.format(larry.name, larry.energy))\n",
        "\n",
        "larry.do_homework('English')\n",
        "\n",
        "print('{} is {}hungry'.format(larry.name, 'not ' if (larry.hunger == 0) else ''))\n",
        "\n",
        "larry.sleep(hours=10)\n",
        "\n",
        "print('{} has {} energy left'.format(larry.name, larry.energy))"
      ],
      "execution_count": 0,
      "outputs": []
    }
  ]
}